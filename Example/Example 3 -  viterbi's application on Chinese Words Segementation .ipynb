{
 "cells": [
  {
   "cell_type": "code",
   "execution_count": 33,
   "metadata": {
    "collapsed": false
   },
   "outputs": [
    {
     "name": "stdout",
     "output_type": "stream",
     "text": [
      "-----------默认效果-----------\n",
      "\n",
      "百度/ 新闻/ 是/ 包含/ 海量/ 资讯/ 的/ 新闻/ 服务/ 平台/ 真实/ 反映/ 每时/ 每刻/ 的/ 新闻/ 热点\n",
      "它/ 主要/ 是/ 通过/ 他/ 人/ 视角/ 来/ 聚焦/ 戴安娜/ 去/ 世后/ 的/ 7/ 天/ 深挖/ 戴安娜/ 备受/ 英国民众/ 追/ 捧/ 的/ 原因/ 以及/ 她/ 去/ 世后/ 英国/ 皇室/ 和/ 大众/ 的/ 关系\n",
      "迪/ 迦/ 奥特/ 曼/ 现身/ 了\n",
      "\n",
      "-----------打开新词发现功能后的效果-----------\n",
      "\n",
      "百度/ 新闻/ 是/ 包含/ 海量/ 资讯/ 的/ 新闻/ 服务/ 平台/ 真实/ 反映/ 每时/ 每刻/ 的/ 新闻/ 热点\n",
      "它/ 主要/ 是/ 通过/ 他/ 人视/ 角来/ 聚焦/ 戴/ 安娜/ 去/ 世后/ 的/ 7/ 天/ 深挖/ 戴/ 安娜/ 备受/ 英国民众/ 追/ 捧/ 的/ 原因/ 以及/ 她/ 去/ 世后/ 英国/ 皇室/ 和/ 大众/ 的/ 关系\n",
      "迪迦/ 奥特曼/ 现身/ 了\n"
     ]
    }
   ],
   "source": [
    "import re\n",
    "import os\n",
    "import sys\n",
    "\n",
    "def loadModel(fileName):\n",
    "    with open(fileName, \"rb\") as f:\n",
    "        if fileName.endswith(\".py\"):\n",
    "            return eval(f.read()) #eval() 函数用来执行一个字符串表达式，并返回表达式的值\n",
    "        elif fileName.endswith(\".txt\"):\n",
    "            result = set()\n",
    "            for line in f:\n",
    "                result.add(line.strip().decode('utf-8'))\n",
    "            return result\n",
    "\n",
    "prob_start = loadModel(\"./fileNeeded/prob_start.py\") #dict\n",
    "prob_trans = loadModel(\"./fileNeeded/prob_trans.py\") #dict\n",
    "prob_emit = loadModel(\"./fileNeeded/prob_emit.py\") #dict\n",
    "near_char_tab = loadModel(\"./fileNeeded/near_char_tab.txt\") #set\n",
    "\n",
    "def viterbi(obs, states, start_p, trans_p, emit_p):\n",
    "    V = [{}] #储存每个时刻的概率的列表\n",
    "    path = {} #储存到4个隐藏状态的最优路径\n",
    "    #t=0时刻（初始状态）\n",
    "    for y in states: \n",
    "        V[0][y] = start_p[y] * emit_p[y].get(obs[0],0)\n",
    "        path[y] = [y]\n",
    "    #t=1,...,len(obs)-1时刻\n",
    "    for t in range(1,len(obs)):\n",
    "        V.append({})\n",
    "        newpath = {}\n",
    "        #当前时刻所处的各种可能的状态\n",
    "        for y in states:\n",
    "            #得到 最大概率 和 对应的前一个隐藏状态\n",
    "            (prob,state) = max([ (V[t-1][y0] * trans_p[y0].get(y,0) * emit_p[y].get(obs[t],0), y0) \n",
    "                                            for y0 in states if V[t-1][y0]>0])\n",
    "            #更新 t时刻 对应的隐藏状态为 y 的概率\n",
    "            V[t][y] = prob\n",
    "            #更新 新的路径 为 上一时刻最优的隐藏状态 + 这一时刻的隐藏状态\n",
    "            newpath[y] = path[state] + [y]\n",
    "        #更新上一次的路径\n",
    "        path = newpath\n",
    "    #选取 最大概率 和 对应的最后一个隐藏状态\n",
    "    (prob, state) = max([(V[len(obs) - 1][y], y) for y in states])\n",
    "    #返回最大概率和最优路径\n",
    "    return (prob, path[state])\n",
    "\n",
    "def __raw_seg(sentence):\n",
    "    i,j =0,0\n",
    "    while j<len(sentence)-1:\n",
    "        if not ( sentence[j:j+2] in near_char_tab):\n",
    "            yield sentence[i:j+1]\n",
    "            i=j+1\n",
    "        j+=1\n",
    "    yield sentence[i:j+1]\n",
    "\n",
    "\n",
    "def __cut(sentence):\n",
    "    prob, pos_list =  viterbi(sentence,('B','M','E','S'), prob_start, prob_trans, prob_emit)# 通过viterbi算法求出隐藏状态序列\n",
    "    begin, next = 0,0\n",
    "    # print pos_list, sentence\n",
    "    # 基于隐藏状态序列进行分词    \n",
    "    for i,char in enumerate(sentence):\n",
    "        pos = pos_list[i]\n",
    "        if pos=='B':# 字所处的位置是开始位置\n",
    "            begin = i\n",
    "        elif pos=='E':# 字所处的位置是结束位置\n",
    "            yield sentence[begin:i+1]# 这个子序列就是一个分词\n",
    "            next = i+1\n",
    "        elif pos=='S': # 单独成字\n",
    "            yield char\n",
    "            next = i+1\n",
    "    if next<len(sentence): # 剩余的直接作为一个分词，返回\n",
    "        yield sentence[next:]\n",
    "\n",
    "def cut(sentence,find_new_word=False):\n",
    "    re_han, re_skip = re.compile(\"([\\u4E00-\\u9FA5]+)\"), re.compile(\"[^a-zA-Z0-9+#\\n]\")\n",
    "    blocks = re_han.split(sentence)\n",
    "    if find_new_word: \n",
    "        detail_seg = lambda x: (x,)\n",
    "    else:\n",
    "        detail_seg = __raw_seg\n",
    "    for blk in blocks:\n",
    "        if re_han.match(blk):\n",
    "            for lb in detail_seg(blk):\n",
    "                for word in __cut(lb):\n",
    "                    yield word\n",
    "        else:\n",
    "            tmp = re_skip.split(blk)\n",
    "            for x in tmp:\n",
    "                if x!=\"\":\n",
    "                    yield x\n",
    "sentence_list = [\n",
    "\"百度新闻是包含海量资讯的新闻服务平台,真实反映每时每刻的新闻热点\",\n",
    "\"它主要是通过他人视角来聚焦戴安娜去世后的7天，深挖戴安娜备受英国民众追捧的原因，以及她去世后英国皇室和大众的关系。\",\n",
    "\"迪迦奥特曼现身了\"\n",
    "]\n",
    "\n",
    "print( \"-----------默认效果-----------\\n\")\n",
    "\n",
    "for sentence in sentence_list:\n",
    "    seg_list = cut(sentence)\n",
    "    print(\"/ \".join(seg_list))\n",
    "\n",
    "print(\"\\n-----------打开新词发现功能后的效果-----------\\n\")\n",
    "\n",
    "for sentence in sentence_list:\n",
    "    seg_list = cut(sentence,find_new_word=True)\n",
    "    print(\"/ \".join(seg_list))"
   ]
  },
  {
   "cell_type": "markdown",
   "metadata": {},
   "source": [
    "## 备注1：Python dict的get方法\n",
    "dict.get(key, default=None)：返回指定键的值，如果值不在字典中返回默认值。\n",
    "例子："
   ]
  },
  {
   "cell_type": "code",
   "execution_count": 35,
   "metadata": {
    "collapsed": false
   },
   "outputs": [
    {
     "name": "stdout",
     "output_type": "stream",
     "text": [
      "Value : 27\n",
      "Value : Never\n"
     ]
    }
   ],
   "source": [
    "testdict = {'Name': 'Zara', 'Age': 27}\n",
    "\n",
    "print(\"Value : %s\" %  testdict.get('Age'))\n",
    "print(\"Value : %s\" %  testdict.get('Sex', \"Never\"))"
   ]
  },
  {
   "cell_type": "markdown",
   "metadata": {},
   "source": [
    "## 备注2：合并两个list的操作 - 直接相加\n",
    "在viterbi算法的实现中有用到：``` newpath[y] = path[state] + [y] ```这行代码，其中相关的语法就是：将两个list直接相加就可以将两者合并"
   ]
  },
  {
   "cell_type": "code",
   "execution_count": 9,
   "metadata": {
    "collapsed": false
   },
   "outputs": [
    {
     "name": "stdout",
     "output_type": "stream",
     "text": [
      "['a', 'b', 'c']\n"
     ]
    }
   ],
   "source": [
    "ab=['a','b']\n",
    "c=['c']\n",
    "print(ab+c)"
   ]
  },
  {
   "cell_type": "markdown",
   "metadata": {},
   "source": [
    "## 备注3：max函数\n",
    "在viterbi算法实现中有用到：\n",
    "```\n",
    "max([ (V[t-1][y0] * trans_p[y0].get(y,0) * emit_p[y].get(obs[t],0), y0)  for y0 in states if V[t-1][y0]>0])\n",
    "```\n",
    "这行代码，这里的max函数看上去虽然是对元组进行比较，但是实际上它只比较元组中的第一个元素，以下面的例子为例。\n",
    "\n",
    "这里max函数返回的是 a这个list中第一个元素（数值类型）最大的那个元组"
   ]
  },
  {
   "cell_type": "code",
   "execution_count": 10,
   "metadata": {
    "collapsed": false
   },
   "outputs": [
    {
     "name": "stdout",
     "output_type": "stream",
     "text": [
      "(2, 'b')\n"
     ]
    }
   ],
   "source": [
    "a=[(2,'b'),(1,'a')]\n",
    "print(max(a))"
   ]
  }
 ],
 "metadata": {
  "anaconda-cloud": {},
  "kernelspec": {
   "display_name": "Python [conda root]",
   "language": "python",
   "name": "conda-root-py"
  },
  "language_info": {
   "codemirror_mode": {
    "name": "ipython",
    "version": 3
   },
   "file_extension": ".py",
   "mimetype": "text/x-python",
   "name": "python",
   "nbconvert_exporter": "python",
   "pygments_lexer": "ipython3",
   "version": "3.5.2"
  }
 },
 "nbformat": 4,
 "nbformat_minor": 1
}
