{
 "cells": [
  {
   "cell_type": "code",
   "execution_count": 81,
   "metadata": {
    "collapsed": false
   },
   "outputs": [
    {
     "name": "stdout",
     "output_type": "stream",
     "text": [
      "\n",
      "-----------test-----------\n",
      "\n",
      "百度/ 新闻/ 是/ 包含/ 海量/ 资讯/ 的/ 新闻/ 服务/ 平台/ ,/ 真实/ 反映/ 每时/ 每刻/ 的/ 新闻/ 热点/ 。\n",
      "它/ 主要/ 是/ 通过/ 他/ 人视/ 角来/ 聚焦/ 戴/ 安娜/ 去/ 世后/ 的/ 7/ 天/ ，/ 深挖/ 戴/ 安娜/ 备受/ 英国民众/ 追/ 捧/ 的/ 原因/ ，/ 以及/ 她/ 去/ 世后/ 英国/ 皇室/ 和/ 大众/ 的/ 关系/ 。\n",
      "迪迦/ 奥特曼/ 现身/ 了/ 。\n"
     ]
    }
   ],
   "source": [
    "import re\n",
    "import os\n",
    "import sys\n",
    "\n",
    "def loadModel(fileName):\n",
    "    with open(fileName, \"rb\") as f:\n",
    "        if fileName.endswith(\".py\"):\n",
    "            return eval(f.read()) #eval() 函数用来执行一个字符串表达式，并返回表达式的值\n",
    "        elif fileName.endswith(\".txt\"):\n",
    "            result = set()\n",
    "            for line in f:\n",
    "                result.add(line.strip().decode('utf-8'))\n",
    "            return result\n",
    "\n",
    "prob_start = loadModel(\"./fileNeeded/prob_start.py\") #dict\n",
    "prob_trans = loadModel(\"./fileNeeded/prob_trans.py\") #dict\n",
    "prob_emit = loadModel(\"./fileNeeded/prob_emit.py\") #dict\n",
    "\n",
    "def viterbi(obs, states, start_p, trans_p, emit_p):\n",
    "    V = [{}] #储存每个时刻的概率的列表\n",
    "    path = {} #储存到4个隐藏状态的最优路径\n",
    "    #t=0时刻（初始状态）\n",
    "    for y in states: \n",
    "        V[0][y] = start_p[y] * emit_p[y].get(obs[0],0)\n",
    "        path[y] = [y]\n",
    "    #t=1,...,len(obs)-1时刻\n",
    "    for t in range(1,len(obs)):\n",
    "        V.append({})\n",
    "        newpath = {}\n",
    "        #当前时刻所处的各种可能的状态\n",
    "        for y in states:\n",
    "            #得到 最大概率 和 对应的前一个隐藏状态\n",
    "            (prob,state) = max([ (V[t-1][y0] * trans_p[y0].get(y,0) * emit_p[y].get(obs[t],0), y0) \n",
    "                                            for y0 in states if V[t-1][y0]>0])\n",
    "            #更新 t时刻 对应的隐藏状态为 y 的概率\n",
    "            V[t][y] = prob\n",
    "            #更新 新的路径 为 上一时刻最优的隐藏状态 + 这一时刻的隐藏状态\n",
    "            newpath[y] = path[state] + [y]\n",
    "        #更新上一次的路径\n",
    "        path = newpath\n",
    "    #选取 最大概率 和 对应的最后一个隐藏状态\n",
    "    (prob, state) = max([(V[len(obs) - 1][y], y) for y in states])\n",
    "    #返回最大概率和最优路径\n",
    "    return (prob, path[state])\n",
    "\n",
    "def __cut(sentence):\n",
    "    #通过viterbi算法求出隐藏状态序列\n",
    "    pos_list =  viterbi(sentence,('B','M','E','S'), prob_start, prob_trans, prob_emit)[1]\n",
    "    begin, next = 0, 0\n",
    "    # 基于隐藏状态序列进行分词    \n",
    "    for i,char in enumerate(sentence):\n",
    "        pos = pos_list[i]\n",
    "        if pos=='B':# 字所处的位置是开始位置\n",
    "            begin = i\n",
    "        elif pos=='E':# 字所处的位置是结束位置\n",
    "            yield sentence[begin:i+1]# 这个子序列就是一个分词\n",
    "            next = i+1\n",
    "        elif pos=='S': # 单独成字\n",
    "            yield char\n",
    "            next = i+1\n",
    "    if next<len(sentence): # 剩余的直接作为一个分词，返回\n",
    "        yield sentence[next:]\n",
    "\n",
    "def cut(sentence,find_new_word=False):\n",
    "    re_han = re.compile(\"([\\u4E00-\\u9FD5]+)\") #匹配汉字字符\n",
    "    re_skip = re.compile(\"([a-zA-Z0-9]+(?:\\.\\d+)?%?)\") #匹配非汉字字符\n",
    "    blocks = re_han.split(sentence) #根据汉字切分句子，返回切分结果（包括汉字）\n",
    "\n",
    "    #对于切分的所有块\n",
    "    for blk in blocks:\n",
    "        #如果是汉字\n",
    "        if re_han.match(blk):\n",
    "            #print(\"blk:\",blk)\n",
    "            #print(\"     __cut(blk)\", list(__cut(blk)))\n",
    "            for word in __cut(blk):#进一步切分\n",
    "                yield word\n",
    "        #如果不是汉字\n",
    "        else:\n",
    "            #print(\"sign:|\",blk,\"|\")\n",
    "            tmp = re_skip.split(blk)\n",
    "            for x in tmp:\n",
    "                if x!=\"\":\n",
    "                    yield x\n",
    "sentence_list = [\n",
    "\"百度新闻是包含海量资讯的新闻服务平台,真实反映每时每刻的新闻热点。\",\n",
    "\"它主要是通过他人视角来聚焦戴安娜去世后的7天，深挖戴安娜备受英国民众追捧的原因，以及她去世后英国皇室和大众的关系。\",\n",
    "\"迪迦奥特曼现身了。\"\n",
    "]\n",
    "\n",
    "print(\"\\n-----------test-----------\\n\")\n",
    "\n",
    "for sentence in sentence_list:\n",
    "    seg_list = cut(sentence,find_new_word=True)\n",
    "    print(\"/ \".join(seg_list))"
   ]
  },
  {
   "cell_type": "markdown",
   "metadata": {},
   "source": [
    "## 备注1：Python dict的get方法\n",
    "dict.get(key, default=None)：返回指定键的值，如果值不在字典中返回默认值。\n",
    "例子："
   ]
  },
  {
   "cell_type": "code",
   "execution_count": 35,
   "metadata": {
    "collapsed": false
   },
   "outputs": [
    {
     "name": "stdout",
     "output_type": "stream",
     "text": [
      "Value : 27\n",
      "Value : Never\n"
     ]
    }
   ],
   "source": [
    "testdict = {'Name': 'Zara', 'Age': 27}\n",
    "\n",
    "print(\"Value : %s\" %  testdict.get('Age'))\n",
    "print(\"Value : %s\" %  testdict.get('Sex', \"Never\"))"
   ]
  },
  {
   "cell_type": "markdown",
   "metadata": {},
   "source": [
    "## 备注2：合并两个list的操作 - 直接相加\n",
    "在viterbi算法的实现中有用到：``` newpath[y] = path[state] + [y] ```这行代码，其中相关的语法就是：将两个list直接相加就可以将两者合并"
   ]
  },
  {
   "cell_type": "code",
   "execution_count": 9,
   "metadata": {
    "collapsed": false
   },
   "outputs": [
    {
     "name": "stdout",
     "output_type": "stream",
     "text": [
      "['a', 'b', 'c']\n"
     ]
    }
   ],
   "source": [
    "ab=['a','b']\n",
    "c=['c']\n",
    "print(ab+c)"
   ]
  },
  {
   "cell_type": "markdown",
   "metadata": {},
   "source": [
    "## 备注3：max函数\n",
    "在viterbi算法实现中有用到：\n",
    "```\n",
    "max([ (V[t-1][y0] * trans_p[y0].get(y,0) * emit_p[y].get(obs[t],0), y0)  for y0 in states if V[t-1][y0]>0])\n",
    "```\n",
    "这行代码，这里的max函数看上去虽然是对元组进行比较，但是实际上它只比较元组中的第一个元素，以下面的例子为例。\n",
    "\n",
    "这里max函数返回的是 a这个list中第一个元素（数值类型）最大的那个元组"
   ]
  },
  {
   "cell_type": "code",
   "execution_count": 10,
   "metadata": {
    "collapsed": false
   },
   "outputs": [
    {
     "name": "stdout",
     "output_type": "stream",
     "text": [
      "(2, 'b')\n"
     ]
    }
   ],
   "source": [
    "a=[(2,'b'),(1,'a')]\n",
    "print(max(a))"
   ]
  },
  {
   "cell_type": "markdown",
   "metadata": {},
   "source": [
    "## 备注4：使用正则表达式匹配中文字符和其他符号\n",
    "正则表达式中如果带有括号则表示分组的意思，下面的例子给出 带括号与不带括号 来 对字符串进行切分 的效果:\n",
    "-   带括号的正则表示式 切分 字符串：返回切分后的结果，包含正则表达式匹配的字符串，即是只是单纯地将字符串切开，没有去除特定的字符串\n",
    "- 不带括号的正则表示式 切分 字符串：返回按照匹配的字符串切分的结果，不包含正则表达式匹配的字符串（即是去除了这些字符串）"
   ]
  },
  {
   "cell_type": "code",
   "execution_count": 74,
   "metadata": {
    "collapsed": false
   },
   "outputs": [
    {
     "name": "stdout",
     "output_type": "stream",
     "text": [
      "re_han.split(test)                   : ['', '我是', '123', '队的', '1', '号队员', '#landfire-5!']\n",
      "re_han_without_brackets.split(test)  : ['', '123', '1', '#landfire-5!']\n",
      "re_skip.split(test)                  : ['我是', '123', '队的', '1', '号队员', '#landfire-5!', '']\n",
      "re_skip_without_brackets.split(test) : ['我是', '队的', '号队员', '']\n"
     ]
    }
   ],
   "source": [
    "import re\n",
    "re_han = re.compile(\"([\\u4E00-\\u9FD5]+)\") #匹配中文字符\n",
    "re_han_without_brackets = re.compile(\"[\\u4E00-\\u9FD5]+\") #匹配中文字符（没有带括号版本）\n",
    "re_skip = re.compile(\"([a-zA-Z0-9\\-\\!#]+)\") #匹配非中文字符\n",
    "re_skip_without_brackets = re.compile(\"[a-zA-Z0-9\\-\\!#]+\") #匹配非中文字符（没有带括号版本）\n",
    "test=\"我是123队的1号队员#landfire-5!\"\n",
    "print(\"re_han.split(test)                   :\",re_han.split(test))\n",
    "print(\"re_han_without_brackets.split(test)  :\",re_han_without_brackets.split(test))\n",
    "print(\"re_skip.split(test)                  :\",re_skip.split(test))\n",
    "print(\"re_skip_without_brackets.split(test) :\",re_skip_without_brackets.split(test))"
   ]
  },
  {
   "cell_type": "markdown",
   "metadata": {},
   "source": [
    "## 备注5：lambda x: (x,)和lambda x: x的区别\n",
    "当输入的 x 是字符串时，\n",
    "- lambda x: (x,) 使得在对返回的元素进行遍历时，单位是一个字符串\n",
    "- lambda x: x 则使得将字符串拆成了一个个单一的字符"
   ]
  },
  {
   "cell_type": "code",
   "execution_count": 68,
   "metadata": {
    "collapsed": false
   },
   "outputs": [
    {
     "name": "stdout",
     "output_type": "stream",
     "text": [
      "['我是123队的1号队员#landfire-5!']\n",
      "['我', '是', '1', '2', '3', '队', '的', '1', '号', '队', '员', '#', 'l', 'a', 'n', 'd', 'f', 'i', 'r', 'e', '-', '5', '!']\n"
     ]
    }
   ],
   "source": [
    "f1=lambda x: (x,)\n",
    "f2=lambda x: x\n",
    "print([i for i in f1(test)])\n",
    "print([i for i in f2(test)])"
   ]
  },
  {
   "cell_type": "markdown",
   "metadata": {},
   "source": [
    "## 备注x：对比 使用viterbi算法 和 使用字典查找的方法 的分词效果"
   ]
  },
  {
   "cell_type": "code",
   "execution_count": 77,
   "metadata": {
    "collapsed": false
   },
   "outputs": [
    {
     "name": "stdout",
     "output_type": "stream",
     "text": [
      "-----------默认效果-----------\n",
      "\n",
      "百度/ 新闻/ 是/ 包含/ 海量/ 资讯/ 的/ 新闻/ 服务/ 平台/ ,/ 真实/ 反映/ 每时/ 每刻/ 的/ 新闻/ 热点\n",
      "它/ 主要/ 是/ 通过/ 他/ 人/ 视角/ 来/ 聚焦/ 戴安娜/ 去/ 世后/ 的/ 7/ 天/ ，/ 深挖/ 戴安娜/ 备受/ 英国民众/ 追/ 捧/ 的/ 原因/ ，/ 以及/ 她/ 去/ 世后/ 英国/ 皇室/ 和/ 大众/ 的/ 关系/ 。\n",
      "迪/ 迦/ 奥特/ 曼/ 现身/ 了\n",
      "\n",
      "-----------打开新词发现功能后的效果-----------\n",
      "\n",
      "百度/ 新闻/ 是/ 包含/ 海量/ 资讯/ 的/ 新闻/ 服务/ 平台/ ,/ 真实/ 反映/ 每时/ 每刻/ 的/ 新闻/ 热点\n",
      "它/ 主要/ 是/ 通过/ 他/ 人视/ 角来/ 聚焦/ 戴/ 安娜/ 去/ 世后/ 的/ 7/ 天/ ，/ 深挖/ 戴/ 安娜/ 备受/ 英国民众/ 追/ 捧/ 的/ 原因/ ，/ 以及/ 她/ 去/ 世后/ 英国/ 皇室/ 和/ 大众/ 的/ 关系/ 。\n",
      "迪迦/ 奥特曼/ 现身/ 了\n"
     ]
    }
   ],
   "source": [
    "import re\n",
    "import os\n",
    "import sys\n",
    "\n",
    "def loadModel(fileName):\n",
    "    with open(fileName, \"rb\") as f:\n",
    "        if fileName.endswith(\".py\"):\n",
    "            return eval(f.read()) #eval() 函数用来执行一个字符串表达式，并返回表达式的值\n",
    "        elif fileName.endswith(\".txt\"):\n",
    "            result = set()\n",
    "            for line in f:\n",
    "                result.add(line.strip().decode('utf-8'))\n",
    "            return result\n",
    "\n",
    "prob_start = loadModel(\"./fileNeeded/prob_start.py\") #dict\n",
    "prob_trans = loadModel(\"./fileNeeded/prob_trans.py\") #dict\n",
    "prob_emit = loadModel(\"./fileNeeded/prob_emit.py\") #dict\n",
    "near_char_tab = loadModel(\"./fileNeeded/near_char_tab.txt\") #set\n",
    "\n",
    "def viterbi(obs, states, start_p, trans_p, emit_p):\n",
    "    V = [{}] #储存每个时刻的概率的列表\n",
    "    path = {} #储存到4个隐藏状态的最优路径\n",
    "    #t=0时刻（初始状态）\n",
    "    for y in states: \n",
    "        V[0][y] = start_p[y] * emit_p[y].get(obs[0],0)\n",
    "        path[y] = [y]\n",
    "    #t=1,...,len(obs)-1时刻\n",
    "    for t in range(1,len(obs)):\n",
    "        V.append({})\n",
    "        newpath = {}\n",
    "        #当前时刻所处的各种可能的状态\n",
    "        for y in states:\n",
    "            #得到 最大概率 和 对应的前一个隐藏状态\n",
    "            (prob,state) = max([ (V[t-1][y0] * trans_p[y0].get(y,0) * emit_p[y].get(obs[t],0), y0) \n",
    "                                            for y0 in states if V[t-1][y0]>0])\n",
    "            #更新 t时刻 对应的隐藏状态为 y 的概率\n",
    "            V[t][y] = prob\n",
    "            #更新 新的路径 为 上一时刻最优的隐藏状态 + 这一时刻的隐藏状态\n",
    "            newpath[y] = path[state] + [y]\n",
    "        #更新上一次的路径\n",
    "        path = newpath\n",
    "    #选取 最大概率 和 对应的最后一个隐藏状态\n",
    "    (prob, state) = max([(V[len(obs) - 1][y], y) for y in states])\n",
    "    #返回最大概率和最优路径\n",
    "    return (prob, path[state])\n",
    "\n",
    "def __raw_seg(sentence):\n",
    "    i,j =0,0\n",
    "    while j < len(sentence)-1:\n",
    "        if sentence[j:j+2] not in near_char_tab:\n",
    "            yield sentence[i:j+1]\n",
    "            i=j+1\n",
    "        j+=1\n",
    "    yield sentence[i:j+1]\n",
    "\n",
    "def __cut(sentence):\n",
    "    #通过viterbi算法求出隐藏状态序列\n",
    "    pos_list =  viterbi(sentence,('B','M','E','S'), prob_start, prob_trans, prob_emit)[1]\n",
    "    begin, next = 0, 0\n",
    "    # 基于隐藏状态序列进行分词    \n",
    "    for i,char in enumerate(sentence):\n",
    "        pos = pos_list[i]\n",
    "        if pos=='B':# 字所处的位置是开始位置\n",
    "            begin = i\n",
    "        elif pos=='E':# 字所处的位置是结束位置\n",
    "            yield sentence[begin:i+1]# 这个子序列就是一个分词\n",
    "            next = i+1\n",
    "        elif pos=='S': # 单独成字\n",
    "            yield char\n",
    "            next = i+1\n",
    "    if next<len(sentence): # 剩余的直接作为一个分词，返回\n",
    "        yield sentence[next:]\n",
    "\n",
    "def cut(sentence,find_new_word=False):\n",
    "    re_han = re.compile(\"([\\u4E00-\\u9FD5]+)\") #匹配汉字字符\n",
    "    re_skip = re.compile(\"([a-zA-Z0-9]+(?:\\.\\d+)?%?)\") #匹配非汉字字符\n",
    "    blocks = re_han.split(sentence) #根据汉字切分句子，返回切分结果（包括汉字）\n",
    "    if find_new_word: \n",
    "        detail_seg = lambda x: (x,)\n",
    "    else:\n",
    "        detail_seg = __raw_seg\n",
    "    #对于切分的所有块\n",
    "    for blk in blocks:\n",
    "        #如果是汉字\n",
    "        if re_han.match(blk):\n",
    "            #print(\"blk:\",blk)\n",
    "            #print(\"detail_seg(blk):\",list(detail_seg(blk)))\n",
    "            for lb in detail_seg(blk):\n",
    "                #print(\"     __cut(lb)\", list(__cut(lb)))\n",
    "                for word in __cut(lb):#进一步切分\n",
    "                    yield word\n",
    "        #如果不是汉字\n",
    "        else:\n",
    "            #print(\"sign:|\",blk,\"|\")\n",
    "            tmp = re_skip.split(blk)\n",
    "            for x in tmp:\n",
    "                if x!=\"\":\n",
    "                    yield x\n",
    "sentence_list = [\n",
    "\"百度新闻是包含海量资讯的新闻服务平台,真实反映每时每刻的新闻热点\",\n",
    "\"它主要是通过他人视角来聚焦戴安娜去世后的7天，深挖戴安娜备受英国民众追捧的原因，以及她去世后英国皇室和大众的关系。\",\n",
    "\"迪迦奥特曼现身了\"\n",
    "]\n",
    "\n",
    "print( \"-----------默认效果-----------\\n\")\n",
    "\n",
    "for sentence in sentence_list:\n",
    "    seg_list = cut(sentence)\n",
    "    print(\"/ \".join(seg_list))\n",
    "\n",
    "print(\"\\n-----------打开新词发现功能后的效果-----------\\n\")\n",
    "\n",
    "for sentence in sentence_list:\n",
    "    seg_list = cut(sentence,find_new_word=True)\n",
    "    print(\"/ \".join(seg_list))"
   ]
  }
 ],
 "metadata": {
  "anaconda-cloud": {},
  "kernelspec": {
   "display_name": "Python [conda root]",
   "language": "python",
   "name": "conda-root-py"
  },
  "language_info": {
   "codemirror_mode": {
    "name": "ipython",
    "version": 3
   },
   "file_extension": ".py",
   "mimetype": "text/x-python",
   "name": "python",
   "nbconvert_exporter": "python",
   "pygments_lexer": "ipython3",
   "version": "3.5.2"
  }
 },
 "nbformat": 4,
 "nbformat_minor": 1
}
